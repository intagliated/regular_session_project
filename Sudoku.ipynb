{
 "cells": [
  {
   "cell_type": "markdown",
   "metadata": {},
   "source": [
    "**Sudoku**"
   ]
  },
  {
   "cell_type": "code",
   "execution_count": 17,
   "metadata": {},
   "outputs": [
    {
     "name": "stdout",
     "output_type": "stream",
     "text": [
      "Requirement already satisfied: pygame in c:\\users\\akhil\\appdata\\local\\packages\\pythonsoftwarefoundation.python.3.11_qbz5n2kfra8p0\\localcache\\local-packages\\python311\\site-packages (2.5.1)\n",
      "Note: you may need to restart the kernel to use updated packages.\n"
     ]
    }
   ],
   "source": [
    "pip install pygame"
   ]
  },
  {
   "cell_type": "markdown",
   "metadata": {},
   "source": [
    "Initializing sudoku game window and variables\n"
   ]
  },
  {
   "cell_type": "code",
   "execution_count": 18,
   "metadata": {},
   "outputs": [
    {
     "name": "stdout",
     "output_type": "stream",
     "text": [
      "pygame 2.5.1 (SDL 2.28.2, Python 3.11.5)\n",
      "Hello from the pygame community. https://www.pygame.org/contribute.html\n"
     ]
    }
   ],
   "source": [
    "import pygame\n",
    "pygame.font.init()\n",
    "Window = pygame.display.set_mode((500, 500))\n",
    "pygame.display.set_caption(\"SUDOKU GAME\")\n",
    "x = 0\n",
    "z = 0\n",
    "diff = 500 / 9\n",
    "value= 0\n",
    "defaultgrid =[\n",
    "        [0, 0, 4, 0, 6, 0, 0, 0, 5],\n",
    "        [7, 8, 0, 4, 0, 0, 0, 2, 0],\n",
    "        [0, 0, 2, 6, 0, 1, 0, 7, 8],\n",
    "        [6, 1, 0, 0, 7, 5, 0, 0, 9],\n",
    "        [0, 0, 7, 5, 4, 0, 0, 6, 1],\n",
    "        [0, 0, 1, 7, 5, 0, 9, 3, 0],\n",
    "        [0, 7, 0, 3, 0, 0, 0, 1, 0],\n",
    "        [0, 4, 0, 2, 0, 6, 0, 0, 7],\n",
    "        [0, 2, 0, 0, 0, 7, 4, 0, 0],\n",
    "    ]\n",
    " \n",
    " \n",
    "font = pygame.font.SysFont(\"comicsans\", 40)\n",
    "font1 = pygame.font.SysFont(\"comicsans\", 20)"
   ]
  },
  {
   "cell_type": "markdown",
   "metadata": {},
   "source": [
    "Function for highlighting selected cell"
   ]
  },
  {
   "cell_type": "code",
   "execution_count": 19,
   "metadata": {},
   "outputs": [],
   "source": [
    "def cord(pos):\n",
    "    global x\n",
    "    x = pos[0]//diff\n",
    "    global z\n",
    "    z = pos[1]//diff\n",
    " \n",
    "def highlightbox():\n",
    "    for k in range(2):\n",
    "        pygame.draw.line(Window, (0, 0, 0), (x * diff-3, (z + k)*diff), (x * diff + diff + 3, (z + k)*diff), 7)\n",
    "        pygame.draw.line(Window, (0, 0, 0), ( (x + k)* diff, z * diff ), ((x + k) * diff, z * diff + diff), 7) "
   ]
  },
  {
   "cell_type": "markdown",
   "metadata": {},
   "source": [
    "Function to draw lines for making sudoku grid\n"
   ]
  },
  {
   "cell_type": "code",
   "execution_count": 20,
   "metadata": {},
   "outputs": [],
   "source": [
    "def drawlines():\n",
    "    for i in range (9):\n",
    "        for j in range (9):\n",
    "            if defaultgrid[i][j]!= 0:\n",
    "                pygame.draw.rect(Window, (255, 255, 0), (i * diff, j * diff, diff + 1, diff + 1))\n",
    "                text1 = font.render(str(defaultgrid[i][j]), 1, (0, 0, 0))\n",
    "                Window.blit(text1, (i * diff + 15, j * diff + 15))         \n",
    "    for l in range(10):\n",
    "        if l % 3 == 0 :\n",
    "            thick = 7\n",
    "        else:\n",
    "            thick = 1\n",
    "        pygame.draw.line(Window, (0, 0, 0), (0, l * diff), (500, l * diff), thick)\n",
    "        pygame.draw.line(Window, (0, 0, 0), (l * diff, 0), (l * diff, 500), thick)"
   ]
  },
  {
   "cell_type": "markdown",
   "metadata": {},
   "source": [
    "Function to fill value in the cell"
   ]
  },
  {
   "cell_type": "code",
   "execution_count": 21,
   "metadata": {},
   "outputs": [],
   "source": [
    "def fillvalue(value):\n",
    "    text1 = font.render(str(value), 1, (0, 0, 0))\n",
    "    Window.blit(text1, (x * diff + 15, z * diff + 15))   "
   ]
  },
  {
   "cell_type": "markdown",
   "metadata": {},
   "source": [
    "Function for raising error when wrong value is entered"
   ]
  },
  {
   "cell_type": "code",
   "execution_count": 22,
   "metadata": {},
   "outputs": [],
   "source": [
    "def raiseerror():\n",
    "    text1 = font.render(\"wrong!\", 1, (0, 0, 0))\n",
    "    Window.blit(text1, (20, 570)) \n",
    "def raiseerror1():\n",
    "    text1 = font.render(\"wrong ! enter a valid key for the game\", 1, (0, 0, 0))\n",
    "    Window.blit(text1, (20, 570)) "
   ]
  },
  {
   "cell_type": "markdown",
   "metadata": {},
   "source": [
    "Function to check if the entered value is valid"
   ]
  },
  {
   "cell_type": "code",
   "execution_count": 23,
   "metadata": {},
   "outputs": [],
   "source": [
    "def validvalue(m, k, l, value):\n",
    "    for it in range(9):\n",
    "        if m[k][it]== value:\n",
    "            return False\n",
    "        if m[it][l]== value:\n",
    "            return False\n",
    "    it = k//3\n",
    "    jt = l//3\n",
    "    for k in range(it * 3, it * 3 + 3):\n",
    "        for l in range (jt * 3, jt * 3 + 3):\n",
    "            if m[k][l]== value:\n",
    "                return False\n",
    "    return True"
   ]
  },
  {
   "cell_type": "markdown",
   "metadata": {},
   "source": [
    "Function to solve sudoku game"
   ]
  },
  {
   "cell_type": "code",
   "execution_count": 24,
   "metadata": {},
   "outputs": [],
   "source": [
    "def solvegame(defaultgrid, i, j):\n",
    "     \n",
    "    while defaultgrid[i][j]!= 0:\n",
    "        if i<8:\n",
    "            i+= 1\n",
    "        elif i == 8 and j<8:\n",
    "            i = 0\n",
    "            j+= 1\n",
    "        elif i == 8 and j == 8:\n",
    "            return True\n",
    "    pygame.event.pump()   \n",
    "    for it in range(1, 10):\n",
    "        if validvalue(defaultgrid, i, j, it)== True:\n",
    "            defaultgrid[i][j]= it\n",
    "            global x, z\n",
    "            x = i\n",
    "            z = j\n",
    "            Window.fill((255, 255, 255))\n",
    "            drawlines()\n",
    "            highlightbox()\n",
    "            pygame.display.update()\n",
    "            pygame.time.delay(20)\n",
    "            if solvegame(defaultgrid, i, j)== 1:\n",
    "                return True\n",
    "            else:\n",
    "                defaultgrid[i][j]= 0\n",
    "            Window.fill((0,0,0))\n",
    "         \n",
    "            drawlines()\n",
    "            highlightbox()\n",
    "            pygame.display.update()\n",
    "            pygame.time.delay(50)   \n",
    "    return False "
   ]
  },
  {
   "cell_type": "markdown",
   "metadata": {},
   "source": [
    "Function to show result"
   ]
  },
  {
   "cell_type": "code",
   "execution_count": 25,
   "metadata": {},
   "outputs": [],
   "source": [
    "def gameresult():\n",
    "    text1 = font.render(\"game finished\", 1, (0, 0, 0))\n",
    "    Window.blit(text1, (20, 570)) \n",
    "flag=True  \n",
    "flag1 = 0\n",
    "flag2 = 0\n",
    "rs = 0\n",
    "error = 0"
   ]
  },
  {
   "cell_type": "markdown",
   "metadata": {},
   "source": [
    "Rest Code"
   ]
  },
  {
   "cell_type": "code",
   "execution_count": 26,
   "metadata": {},
   "outputs": [],
   "source": [
    "while flag:\n",
    "    Window.fill((255,182,193))\n",
    "    for event in pygame.event.get():\n",
    "        if event.type == pygame.QUIT:\n",
    "            flag = False   \n",
    "        if event.type == pygame.MOUSEBUTTONDOWN:\n",
    "            flag1 = 1\n",
    "            pos = pygame.mouse.get_pos()\n",
    "            cord(pos)\n",
    "        if event.type == pygame.KEYDOWN:\n",
    "            if event.key == pygame.K_LEFT:\n",
    "                x-= 1\n",
    "                flag1 = 1\n",
    "            if event.key == pygame.K_RIGHT:\n",
    "                x+= 1\n",
    "                flag1 = 1\n",
    "            if event.key == pygame.K_UP:\n",
    "                y-= 1\n",
    "                flag1 = 1\n",
    "            if event.key == pygame.K_DOWN:\n",
    "                y+= 1\n",
    "                flag1 = 1   \n",
    "            if event.key == pygame.K_1:\n",
    "                value = 1\n",
    "            if event.key == pygame.K_2:\n",
    "                value = 2   \n",
    "            if event.key == pygame.K_3:\n",
    "                value = 3\n",
    "            if event.key == pygame.K_4:\n",
    "                value = 4\n",
    "            if event.key == pygame.K_5:\n",
    "                value = 5\n",
    "            if event.key == pygame.K_6:\n",
    "                value = 6\n",
    "            if event.key == pygame.K_7:\n",
    "                value = 7\n",
    "            if event.key == pygame.K_8:\n",
    "                value = 8\n",
    "            if event.key == pygame.K_9:\n",
    "                value = 9 \n",
    "            if event.key == pygame.K_RETURN:\n",
    "                flag2 = 1  \n",
    "            if event.key == pygame.K_r:\n",
    "                rs = 0\n",
    "                error = 0\n",
    "                flag2 = 0\n",
    "                defaultgrid=[\n",
    "                [0, 0, 0, 0, 0, 0, 0, 0, 0],\n",
    "                [0, 0, 0, 0, 0, 0, 0, 0, 0],\n",
    "                [0, 0, 0, 0, 0, 0, 0, 0, 0],\n",
    "                [0, 0, 0, 0, 0, 0, 0, 0, 0],\n",
    "                [0, 0, 0, 0, 0, 0, 0, 0, 0],\n",
    "                [0, 0, 0, 0, 0, 0, 0, 0, 0],\n",
    "                [0, 0, 0, 0, 0, 0, 0, 0, 0],\n",
    "                [0, 0, 0, 0, 0, 0, 0, 0, 0],\n",
    "                [0, 0, 0, 0, 0, 0, 0, 0, 0]\n",
    "                ]\n",
    "            if event.key == pygame.K_d:\n",
    "                rs = 0\n",
    "                error = 0\n",
    "                flag2 = 0\n",
    "                defaultgrid  =[\n",
    "                    [0, 0, 4, 0, 6, 0, 0, 0, 5],\n",
    "                    [7, 8, 0, 4, 0, 0, 0, 2, 0],\n",
    "                    [0, 0, 2, 6, 0, 1, 0, 7, 8],\n",
    "                    [6, 1, 0, 0, 7, 5, 0, 0, 9],\n",
    "                    [0, 0, 7, 5, 4, 0, 0, 6, 1],\n",
    "                    [0, 0, 1, 7, 5, 0, 9, 3, 0],\n",
    "                    [0, 7, 0, 3, 0, 0, 0, 1, 0],\n",
    "                    [0, 4, 0, 2, 0, 6, 0, 0, 7],\n",
    "                    [0, 2, 0, 0, 0, 7, 4, 0, 0],\n",
    "                ]\n",
    "    if flag2 == 1:\n",
    "        if solvegame(defaultgrid , 0, 0)== False:\n",
    "            error = 1\n",
    "        else:\n",
    "            rs = 1\n",
    "        flag2 = 0   \n",
    "    if value != 0:           \n",
    "        fillvalue(value)\n",
    "        if validvalue(defaultgrid , int(x), int(z), value)== True:\n",
    "            defaultgrid[int(x)][int(z)]= value\n",
    "            flag1 = 0\n",
    "        else:\n",
    "            defaultgrid[int(x)][int(z)]= 0\n",
    "            raiseerror1()  \n",
    "        value = 0   \n",
    "       \n",
    "    if error == 1:\n",
    "        raiseerror() \n",
    "    if rs == 1:\n",
    "        gameresult()       \n",
    "    drawlines() \n",
    "    if flag1 == 1:\n",
    "        highlightbox()      \n",
    "    pygame.display.update() \n",
    "   \n",
    "pygame.quit()   "
   ]
  }
 ],
 "metadata": {
  "kernelspec": {
   "display_name": "Python 3",
   "language": "python",
   "name": "python3"
  },
  "language_info": {
   "codemirror_mode": {
    "name": "ipython",
    "version": 3
   },
   "file_extension": ".py",
   "mimetype": "text/x-python",
   "name": "python",
   "nbconvert_exporter": "python",
   "pygments_lexer": "ipython3",
   "version": "3.11.5"
  },
  "orig_nbformat": 4
 },
 "nbformat": 4,
 "nbformat_minor": 2
}
